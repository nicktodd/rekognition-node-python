{
 "cells": [
  {
   "cell_type": "markdown",
   "source": [
    "# Rekognition\n",
    "\n",
    "First we must import the boto3 library and then we can create a Rekognition client."
   ],
   "metadata": {}
  },
  {
   "cell_type": "code",
   "execution_count": null,
   "source": [
    "import boto3\r\n",
    "rekognition = boto3.client(\"rekognition\", \"us-east-1\")  "
   ],
   "outputs": [],
   "metadata": {}
  },
  {
   "cell_type": "markdown",
   "source": [
    "## Image Detection"
   ],
   "metadata": {}
  },
  {
   "cell_type": "code",
   "execution_count": null,
   "source": [
    "\r\n",
    "response = rekognition.detect_labels(\r\n",
    "\t\tImage={\r\n",
    "\t\t\t\"S3Object\": {\r\n",
    "\t\t\t\t\"Bucket\": \"facesusconygrecom\",\r\n",
    "\t\t\t\t\"Name\": \"sarah.jpg\",\r\n",
    "\t\t\t}\r\n",
    "\t\t},\r\n",
    "\t\tMaxLabels=10,\r\n",
    "\t\tMinConfidence=70,\r\n",
    "\t)\r\n",
    "\r\n",
    "for label in response['Labels']:\r\n",
    "    print (\"{Name} - {Confidence}%\".format(**label))\r\n",
    "    \r\n"
   ],
   "outputs": [
    {
     "output_type": "stream",
     "name": "stdout",
     "text": [
      "Clothing - 99.8679428100586%\n",
      "Fashion - 99.45709991455078%\n",
      "Gown - 99.45709991455078%\n",
      "Robe - 99.45709991455078%\n",
      "Evening Dress - 99.45709991455078%\n",
      "Person - 98.88396453857422%\n",
      "Railing - 92.95266723632812%\n",
      "Pants - 83.74752807617188%\n",
      "Plant - 81.14045715332031%\n",
      "Alloy Wheel - 77.19818878173828%\n"
     ]
    }
   ],
   "metadata": {}
  },
  {
   "cell_type": "markdown",
   "source": [
    "## Facial Recognition"
   ],
   "metadata": {}
  },
  {
   "cell_type": "code",
   "execution_count": null,
   "source": [
    "response = rekognition.compare_faces(\n",
    "\t    SourceImage={\n",
    "\t\t\t\"S3Object\": {\n",
    "\t\t\t\t\"Bucket\": \"facesusconygrecom\",\n",
    "\t\t\t\t\"Name\": \"sarah.jpg\",\n",
    "\t\t\t}\n",
    "\t\t},\n",
    "\t\tTargetImage={\n",
    "\t\t\t\"S3Object\": {\n",
    "\t\t\t\t\"Bucket\": \"facesusconygrecom\",\n",
    "\t\t\t\t\"Name\": \"family.jpg\",\n",
    "\t\t\t}\n",
    "\t\t},\n",
    "\t    SimilarityThreshold=90,\n",
    "\t)\n",
    "for match in response[\"FaceMatches\"]:\n",
    "\tprint (\"Target Face ({Confidence}%)\".format(**match['Face']))\n",
    "\n",
    "    "
   ],
   "outputs": [
    {
     "output_type": "stream",
     "name": "stdout",
     "text": [
      "Target Face (99.99909210205078%)\n"
     ]
    }
   ],
   "metadata": {}
  },
  {
   "cell_type": "markdown",
   "source": [
    "# Text Services\n",
    "## Amazon Translate"
   ],
   "metadata": {}
  },
  {
   "cell_type": "code",
   "execution_count": null,
   "source": [
    "translate = boto3.client(service_name='translate', region_name='us-east-1', use_ssl=True)\n",
    "\n",
    "result = translate.translate_text(Text=\"Hello, World\", \n",
    "            SourceLanguageCode=\"en\", TargetLanguageCode=\"de\")\n",
    "print('TranslatedText: ' + result.get('TranslatedText'))\n",
    "print('SourceLanguageCode: ' + result.get('SourceLanguageCode'))\n",
    "print('TargetLanguageCode: ' + result.get('TargetLanguageCode'))"
   ],
   "outputs": [
    {
     "output_type": "stream",
     "name": "stdout",
     "text": [
      "TranslatedText: Hallo, Welt\n",
      "SourceLanguageCode: en\n",
      "TargetLanguageCode: de\n"
     ]
    }
   ],
   "metadata": {}
  },
  {
   "cell_type": "markdown",
   "source": [
    "## Amazon Polly"
   ],
   "metadata": {}
  },
  {
   "cell_type": "code",
   "execution_count": null,
   "source": [
    "\"\"\"Getting Started Example for Python 2.7+/3.3+\"\"\"\n",
    "from boto3 import Session\n",
    "from botocore.exceptions import BotoCoreError, ClientError\n",
    "from contextlib import closing\n",
    "import os\n",
    "import sys\n",
    "import subprocess\n",
    "from tempfile import gettempdir\n",
    "\n",
    "# Create a client using the credentials and region defined in the [adminuser]\n",
    "# section of the AWS credentials file (~/.aws/credentials).\n",
    "session = Session()\n",
    "polly = session.client(\"polly\")\n",
    "\n",
    "try:\n",
    "    # Request speech synthesis\n",
    "    response = polly.synthesize_speech(Text=\"Hello world!\", OutputFormat=\"mp3\",\n",
    "                                        VoiceId=\"Joanna\")\n",
    "except (BotoCoreError, ClientError) as error:\n",
    "    # The service returned an error, exit gracefully\n",
    "    print(error)\n",
    "    sys.exit(-1)\n",
    "\n",
    "# Access the audio stream from the response\n",
    "if \"AudioStream\" in response:\n",
    "    # Note: Closing the stream is important because the service throttles on the\n",
    "    # number of parallel connections. Here we are using contextlib.closing to\n",
    "    # ensure the close method of the stream object will be called automatically\n",
    "    # at the end of the with statement's scope.\n",
    "        with closing(response[\"AudioStream\"]) as stream:\n",
    "            output = os.path.join(gettempdir(), \"speech.mp3\")\n",
    "\n",
    "            try:\n",
    "                # Open a file for writing the output as a binary stream\n",
    "                with open(output, \"wb\") as file:\n",
    "                    file.write(stream.read())\n",
    "            except IOError as error:\n",
    "                # Could not write to file, exit gracefully\n",
    "                print(error)\n",
    "\n",
    "\n",
    "# Play the audio using the platform's default player\n",
    "if sys.platform == \"win32\":\n",
    "    os.startfile(output)\n",
    "else:\n",
    "    # The following works on macOS and Linux. (Darwin = mac, xdg-open = linux).\n",
    "    opener = \"open\" if sys.platform == \"darwin\" else \"xdg-open\"\n",
    "    subprocess.call([opener, output])"
   ],
   "outputs": [],
   "metadata": {}
  }
 ],
 "metadata": {
  "kernelspec": {
   "name": "python3",
   "display_name": "Python 3.9.2 64-bit"
  },
  "language_info": {
   "codemirror_mode": {
    "name": "ipython",
    "version": 3
   },
   "file_extension": ".py",
   "mimetype": "text/x-python",
   "name": "python",
   "nbconvert_exporter": "python",
   "pygments_lexer": "ipython3",
   "version": "3.9.2"
  },
  "interpreter": {
   "hash": "8ed243e5887775605319bbb862e1ad596dcc20841ad5293fa7750ee0b778099d"
  }
 },
 "nbformat": 4,
 "nbformat_minor": 4
}