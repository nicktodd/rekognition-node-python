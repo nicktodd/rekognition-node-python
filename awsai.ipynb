{
 "cells": [
  {
   "cell_type": "markdown",
   "metadata": {},
   "source": [
    "# Rekognition\n",
    "\n",
    "First we must import the boto3 library and then we can create a Rekognition client."
   ]
  },
  {
   "cell_type": "code",
   "execution_count": 1,
   "metadata": {},
   "outputs": [],
   "source": [
    "import boto3\n",
    "rekognition = boto3.client(\"rekognition\", \"us-east-1\")"
   ]
  },
  {
   "cell_type": "markdown",
   "metadata": {},
   "source": [
    "## Image Detection"
   ]
  },
  {
   "cell_type": "code",
   "execution_count": 2,
   "metadata": {},
   "outputs": [
    {
     "name": "stdout",
     "output_type": "stream",
     "text": [
      "Clothing - 99.86202239990234%\n",
      "Evening Dress - 99.4744873046875%\n",
      "Robe - 99.4744873046875%\n",
      "Gown - 99.4744873046875%\n",
      "Fashion - 99.4744873046875%\n",
      "Person - 98.88396453857422%\n",
      "Railing - 92.65225982666016%\n",
      "Pants - 83.67855834960938%\n",
      "Plant - 80.97537994384766%\n",
      "Alloy Wheel - 75.90216827392578%\n"
     ]
    }
   ],
   "source": [
    "\n",
    "response = rekognition.detect_labels(\n",
    "\t\tImage={\n",
    "\t\t\t\"S3Object\": {\n",
    "\t\t\t\t\"Bucket\": \"facesusconygrecom\",\n",
    "\t\t\t\t\"Name\": \"sarah.jpg\",\n",
    "\t\t\t}\n",
    "\t\t},\n",
    "\t\tMaxLabels=10,\n",
    "\t\tMinConfidence=70,\n",
    "\t)\n",
    "\n",
    "for label in response['Labels']:\n",
    "    print (\"{Name} - {Confidence}%\".format(**label))\n",
    "    \n"
   ]
  },
  {
   "cell_type": "markdown",
   "metadata": {},
   "source": [
    "## Facial Recognition"
   ]
  },
  {
   "cell_type": "code",
   "execution_count": 3,
   "metadata": {},
   "outputs": [
    {
     "name": "stdout",
     "output_type": "stream",
     "text": [
      "Target Face (99.99617004394531%)\n"
     ]
    }
   ],
   "source": [
    "response = rekognition.compare_faces(\n",
    "\t    SourceImage={\n",
    "\t\t\t\"S3Object\": {\n",
    "\t\t\t\t\"Bucket\": \"facesusconygrecom\",\n",
    "\t\t\t\t\"Name\": \"sarah.jpg\",\n",
    "\t\t\t}\n",
    "\t\t},\n",
    "\t\tTargetImage={\n",
    "\t\t\t\"S3Object\": {\n",
    "\t\t\t\t\"Bucket\": \"facesusconygrecom\",\n",
    "\t\t\t\t\"Name\": \"family.jpg\",\n",
    "\t\t\t}\n",
    "\t\t},\n",
    "\t    SimilarityThreshold=90,\n",
    "\t)\n",
    "for match in response[\"FaceMatches\"]:\n",
    "\tprint (\"Target Face ({Confidence}%)\".format(**match['Face']))\n",
    "\n",
    "    "
   ]
  },
  {
   "cell_type": "markdown",
   "metadata": {},
   "source": [
    "# Text Services\n",
    "## Amazon Translate"
   ]
  },
  {
   "cell_type": "code",
   "execution_count": 4,
   "metadata": {},
   "outputs": [
    {
     "name": "stdout",
     "output_type": "stream",
     "text": [
      "TranslatedText: مرحبا، العالم\n",
      "SourceLanguageCode: en\n",
      "TargetLanguageCode: ar\n"
     ]
    }
   ],
   "source": [
    "translate = boto3.client(service_name='translate', region_name='us-east-1', use_ssl=True)\n",
    "\n",
    "result = translate.translate_text(Text=\"Hello, World\", \n",
    "            SourceLanguageCode=\"en\", TargetLanguageCode=\"ar\")\n",
    "print('TranslatedText: ' + result.get('TranslatedText'))\n",
    "print('SourceLanguageCode: ' + result.get('SourceLanguageCode'))\n",
    "print('TargetLanguageCode: ' + result.get('TargetLanguageCode'))"
   ]
  },
  {
   "cell_type": "markdown",
   "metadata": {},
   "source": [
    "## Amazon Polly"
   ]
  },
  {
   "cell_type": "code",
   "execution_count": 5,
   "metadata": {},
   "outputs": [],
   "source": [
    "\"\"\"Getting Started Example for Python 2.7+/3.3+\"\"\"\n",
    "from boto3 import Session\n",
    "from botocore.exceptions import BotoCoreError, ClientError\n",
    "from contextlib import closing\n",
    "import os\n",
    "import sys\n",
    "import subprocess\n",
    "from tempfile import gettempdir\n",
    "\n",
    "# Create a client using the credentials and region defined in the [adminuser]\n",
    "# section of the AWS credentials file (~/.aws/credentials).\n",
    "session = Session()\n",
    "polly = session.client(\"polly\")\n",
    "\n",
    "try:\n",
    "    # Request speech synthesis\n",
    "    response = polly.synthesize_speech(Text=\"مرحبا، العالم\", OutputFormat=\"mp3\",\n",
    "                                        VoiceId=\"Zeina\")\n",
    "except (BotoCoreError, ClientError) as error:\n",
    "    # The service returned an error, exit gracefully\n",
    "    print(error)\n",
    "    sys.exit(-1)\n",
    "\n",
    "# Access the audio stream from the response\n",
    "if \"AudioStream\" in response:\n",
    "    # Note: Closing the stream is important because the service throttles on the\n",
    "    # number of parallel connections. Here we are using contextlib.closing to\n",
    "    # ensure the close method of the stream object will be called automatically\n",
    "    # at the end of the with statement's scope.\n",
    "        with closing(response[\"AudioStream\"]) as stream:\n",
    "            output = os.path.join(gettempdir(), \"speech.mp3\")\n",
    "\n",
    "            try:\n",
    "                # Open a file for writing the output as a binary stream\n",
    "                with open(output, \"wb\") as file:\n",
    "                    file.write(stream.read())\n",
    "            except IOError as error:\n",
    "                # Could not write to file, exit gracefully\n",
    "                print(error)\n",
    "\n",
    "\n",
    "# Play the audio using the platform's default player\n",
    "if sys.platform == \"win32\":\n",
    "    os.startfile(output)\n",
    "else:\n",
    "    # The following works on macOS and Linux. (Darwin = mac, xdg-open = linux).\n",
    "    opener = \"open\" if sys.platform == \"darwin\" else \"xdg-open\"\n",
    "    subprocess.call([opener, output])"
   ]
  }
 ],
 "metadata": {
  "kernelspec": {
   "display_name": "Python 3",
   "language": "python",
   "name": "python3"
  },
  "language_info": {
   "codemirror_mode": {
    "name": "ipython",
    "version": 3
   },
   "file_extension": ".py",
   "mimetype": "text/x-python",
   "name": "python",
   "nbconvert_exporter": "python",
   "pygments_lexer": "ipython3",
   "version": "3.9.2"
  }
 },
 "nbformat": 4,
 "nbformat_minor": 4
}
